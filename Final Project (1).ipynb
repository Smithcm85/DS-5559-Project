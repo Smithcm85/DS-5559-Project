{
 "cells": [
  {
   "cell_type": "code",
   "execution_count": 16,
   "metadata": {},
   "outputs": [],
   "source": [
    "from pyspark.sql import SQLContext\n",
    "from pyspark.sql.types import *\n",
    "from pyspark.sql import SparkSession\n",
    "\n",
    "spark = SparkSession.builder.getOrCreate()\n",
    "sc = spark.sparkContext\n",
    "sqlContext = SQLContext(sc)\n",
    "\n",
    "filePath = \"/sfs/qumulo/qhome/cms8ey/ds5559/DS 5559 Project/Acquisition Files\""
   ]
  },
  {
   "cell_type": "code",
   "execution_count": 49,
   "metadata": {},
   "outputs": [
    {
     "name": "stdout",
     "output_type": "stream",
     "text": [
      "/sfs/qumulo/qhome/cms8ey/ds5559/DS 5559 Project\n"
     ]
    }
   ],
   "source": [
    "#Figuring out path to the files\n",
    "%%bash\n",
    "pwd"
   ]
  },
  {
   "cell_type": "code",
   "execution_count": 3,
   "metadata": {},
   "outputs": [],
   "source": [
    "#ended up not using this but figured I'd leave it for now\n",
    "schema = StructType([StructField(\"Loan Number\", StringType(), True)\n",
    "                     ,StructField(\"Origination Channel\", StringType(), True)\n",
    "                     ,StructField(\"Seller Name\", StringType(), True)\n",
    "                     ,StructField(\"Original Interest Rate\", FloatType(), True)\n",
    "                     ,StructField(\"Original Balance\", FloatType(), True)\n",
    "                     ,StructField(\"Original Term\", IntegerType(), True)\n",
    "                     ,StructField(\"Origination Date\", DateType(), True)\n",
    "                     ,StructField(\"First Payment Date\", DateType(), True)\n",
    "                     ,StructField(\"LTV\", FloatType(), True)\n",
    "                     ,StructField(\"CLTV\", FloatType(), True)\n",
    "                     ,StructField(\"Number of Borrowers\", IntegerType(), True)\n",
    "                     ,StructField(\"DTI\", FloatType(), True)\n",
    "                     ,StructField(\"Primary Borrower Credit Score\", IntegerType(), True)\n",
    "                     ,StructField(\"First Time Home Buyer Flag\", StringType(), True)\n",
    "                     ,StructField(\"Loan Purpose\", StringType(), True)\n",
    "                     ,StructField(\"Property Type\", StringType(), True)\n",
    "                     ,StructField(\"Number of Units\", StringType(), True)\n",
    "                     ,StructField(\"Occupancy Type\", StringType(), True)\n",
    "                     ,StructField(\"Property State\", StringType(), True)\n",
    "                     ,StructField(\"Zip Code Short\", StringType(), True)\n",
    "                     ,StructField(\"PMI Percent\", FloatType(), True)\n",
    "                     ,StructField(\"Product Type\", StringType(), True)\n",
    "                     ,StructField(\"Joint Borrower Credit Score\", IntegerType(), True)\n",
    "                     ,StructField(\"Mortgage Insurance Type\", IntegerType(), True)\n",
    "                     ,StructField(\"Relocation Mortgage Indicator\", StringType(), True)\n",
    "                     \n",
    "                    \n",
    "                    \n",
    "                    \n",
    "                    \n",
    "                    \n",
    "                    \n",
    "                    ])"
   ]
  },
  {
   "cell_type": "code",
   "execution_count": 2,
   "metadata": {},
   "outputs": [],
   "source": [
    "#list to hold column names\n",
    "cols = [\"Loan_Number\",\n",
    "\"Origination_Channel\",\n",
    "\"Seller_Name\",\n",
    "\"Original_Interest_Rate\",\n",
    "\"Original_Balance\",\n",
    "\"Original_Term\",\n",
    "\"Origination_Date\",\n",
    "\"First_Payment_Date\",\n",
    "\"LTV\",\n",
    "\"CLTV\",\n",
    "\"Number_of_Borrowers\",\n",
    "\"DTI\",\n",
    "\"Primary_Borrower_Credit_Score\",\n",
    "\"First_Time_Home_Buyer_Flag\",\n",
    "\"Loan_Purpose\",\n",
    "\"Property_Type\",\n",
    "\"Number_of_Units\",\n",
    "\"Occupancy_Type\",\n",
    "\"Property_State\",\n",
    "\"Zip_Code_Short\",\n",
    "\"PMI_Percent\",\n",
    "\"Product_Type\",\n",
    "\"Joint_Borrower_Credit_Score\",\n",
    "\"Mortgage_Insurance_Type\",\n",
    "\"Relocation_Mortgage_Indicator\"\n",
    "]"
   ]
  },
  {
   "cell_type": "code",
   "execution_count": 3,
   "metadata": {},
   "outputs": [
    {
     "name": "stdout",
     "output_type": "stream",
     "text": [
      "+------------+---+--------------------+-----+------+---+-------+-------+---+---+----+----+----+----+----+----+----+----+----+----+----+----+----+----+----+\n",
      "|         _c0|_c1|                 _c2|  _c3|   _c4|_c5|    _c6|    _c7|_c8|_c9|_c10|_c11|_c12|_c13|_c14|_c15|_c16|_c17|_c18|_c19|_c20|_c21|_c22|_c23|_c24|\n",
      "+------------+---+--------------------+-----+------+---+-------+-------+---+---+----+----+----+----+----+----+----+----+----+----+----+----+----+----+----+\n",
      "|100001947268|  C|BANK OF AMERICA, ...| 7.75|179000|180|05/2000|07/2000| 71| 71|   1|  19| 784|   Y|   P|  SF|   2|   P|  NY| 103|null| FRM|null|null|   N|\n",
      "|100004723048|  C|FIRST TENNESSEE B...|8.375|133000|360|07/2000|09/2000| 95| 95|   2|  32| 778|   Y|   P|  SF|   1|   P|  TN| 376|  25| FRM| 706|   1|   N|\n",
      "|100006677622|  R|  GMAC MORTGAGE, LLC| 8.25|188000|360|08/2000|10/2000| 80| 80|   2|  29| 776|   N|   P|  SF|   1|   P|  NH|  30|null| FRM| 792|null|   N|\n",
      "|100009883013|  B|JPMORGAN CHASE BA...|  8.5| 88000|360|06/2000|08/2000| 90| 90|   2|  38| 677|   N|   P|  SF|   1|   P|  FL| 330|  25| FRM|null|   1|   N|\n",
      "|100016306074|  R|               OTHER|  8.5|152000|360|07/2000|09/2000| 80| 80|   1|  46| 749|   Y|   P|  PU|   1|   P|  KS| 660|null| FRM|null|null|   N|\n",
      "+------------+---+--------------------+-----+------+---+-------+-------+---+---+----+----+----+----+----+----+----+----+----+----+----+----+----+----+----+\n",
      "only showing top 5 rows\n",
      "\n"
     ]
    }
   ],
   "source": [
    "#https://stackoverflow.com/questions/39926411/provide-schema-while-reading-csv-file-as-a-dataframe\n",
    "dfr = spark.read.csv(\n",
    "    path=filePath,\n",
    "    #header=\"False\",\n",
    "    #schema = cols,\n",
    "    inferSchema= \"true\",\n",
    "    #quote=\"\"\n",
    "    sep =  \"|\"\n",
    ")\n",
    "\n",
    "dfr.show(5)\n",
    "\n",
    "\n"
   ]
  },
  {
   "cell_type": "code",
   "execution_count": 4,
   "metadata": {},
   "outputs": [
    {
     "data": {
      "text/plain": [
       "[Row(Loan_Number=100001947268, Origination_Channel='C', Seller_Name='BANK OF AMERICA, N.A.', Original_Interest_Rate=7.75, Original_Balance=179000, Original_Term=180, Origination_Date='05/2000', First_Payment_Date='07/2000', LTV=71, CLTV=71, Number_of_Borrowers=1, DTI=19, Primary_Borrower_Credit_Score=784, First_Time_Home_Buyer_Flag='Y', Loan_Purpose='P', Property_Type='SF', Number_of_Units=2, Occupancy_Type='P', Property_State='NY', Zip_Code_Short=103, PMI_Percent=None, Product_Type='FRM', Joint_Borrower_Credit_Score=None, Mortgage_Insurance_Type=None, Relocation_Mortgage_Indicator='N')]"
      ]
     },
     "execution_count": 4,
     "metadata": {},
     "output_type": "execute_result"
    }
   ],
   "source": [
    "#https://stackoverflow.com/questions/34077353/how-to-change-dataframe-column-names-in-pyspark\n",
    "dfr = dfr.toDF(*cols)\n",
    "\n",
    "#create temp table for querying\n",
    "dfr.createOrReplaceTempView(\"dfr\")\n",
    "\n",
    "#display new columns\n",
    "dfr.take(1)"
   ]
  },
  {
   "cell_type": "code",
   "execution_count": 44,
   "metadata": {},
   "outputs": [
    {
     "name": "stdout",
     "output_type": "stream",
     "text": [
      "root\n",
      " |-- Loan_Number: long (nullable = true)\n",
      " |-- Origination_Channel: string (nullable = true)\n",
      " |-- Seller_Name: string (nullable = true)\n",
      " |-- Original_Interest_Rate: double (nullable = true)\n",
      " |-- Original_Balance: integer (nullable = true)\n",
      " |-- Original_Term: integer (nullable = true)\n",
      " |-- Origination_Date: string (nullable = true)\n",
      " |-- First_Payment_Date: string (nullable = true)\n",
      " |-- LTV: integer (nullable = true)\n",
      " |-- CLTV: integer (nullable = true)\n",
      " |-- Number_of_Borrowers: integer (nullable = true)\n",
      " |-- DTI: integer (nullable = true)\n",
      " |-- Primary_Borrower_Credit_Score: integer (nullable = true)\n",
      " |-- First_Time_Home_Buyer_Flag: string (nullable = true)\n",
      " |-- Loan_Purpose: string (nullable = true)\n",
      " |-- Property_Type: string (nullable = true)\n",
      " |-- Number_of_Units: integer (nullable = true)\n",
      " |-- Occupancy_Type: string (nullable = true)\n",
      " |-- Property_State: string (nullable = true)\n",
      " |-- Zip_Code_Short: integer (nullable = true)\n",
      " |-- PMI_Percent: integer (nullable = true)\n",
      " |-- Product_Type: string (nullable = true)\n",
      " |-- Joint_Borrower_Credit_Score: integer (nullable = true)\n",
      " |-- Mortgage_Insurance_Type: integer (nullable = true)\n",
      " |-- Relocation_Mortgage_Indicator: string (nullable = true)\n",
      "\n"
     ]
    }
   ],
   "source": [
    "#Show Schema\n",
    "dfr.printSchema()"
   ]
  },
  {
   "cell_type": "code",
   "execution_count": 69,
   "metadata": {},
   "outputs": [
    {
     "data": {
      "text/plain": [
       "20127703"
      ]
     },
     "execution_count": 69,
     "metadata": {},
     "output_type": "execute_result"
    }
   ],
   "source": [
    "#Count of all records\n",
    "dfr.count()"
   ]
  },
  {
   "cell_type": "code",
   "execution_count": 48,
   "metadata": {},
   "outputs": [
    {
     "data": {
      "text/plain": [
       "25"
      ]
     },
     "execution_count": 48,
     "metadata": {},
     "output_type": "execute_result"
    }
   ],
   "source": [
    "#number of columns\n",
    "len(dfr.columns)"
   ]
  },
  {
   "cell_type": "code",
   "execution_count": 38,
   "metadata": {},
   "outputs": [
    {
     "name": "stdout",
     "output_type": "stream",
     "text": [
      "+---------+--------------------+-------------+\n",
      "|PropCount|        RatioOfTotal|Property_Type|\n",
      "+---------+--------------------+-------------+\n",
      "|  3684334| 0.18304790253274789|           PU|\n",
      "|       58|2.881600405093398E-6|         null|\n",
      "| 14533443|  0.7220616420034793|           SF|\n",
      "|        1|4.968276560505858E-8|            S|\n",
      "|   138293|0.006870778703820366|           MH|\n",
      "|   104067|0.005170336368221631|           CP|\n",
      "|  1667507| 0.08284635942579442|           CO|\n",
      "+---------+--------------------+-------------+\n",
      "\n"
     ]
    }
   ],
   "source": [
    "#Distribution of Property Types\n",
    "spark.sql(\"\"\"\n",
    "Select count(*) as PropCount\n",
    ",count(*)/(Select cast(count(*) as float) from dfr) as RatioOfTotal\n",
    ",Property_Type \n",
    "from dfr \n",
    "group by Property_Type\"\"\").show()"
   ]
  },
  {
   "cell_type": "code",
   "execution_count": 41,
   "metadata": {},
   "outputs": [
    {
     "name": "stdout",
     "output_type": "stream",
     "text": [
      "+-----------+--------------------+--------------+\n",
      "|OccupyCount|        RatioOfTotal|Occupancy_Type|\n",
      "+-----------+--------------------+--------------+\n",
      "|         61|3.030648701908573...|          null|\n",
      "|     862678|0.042860228866640725|             S|\n",
      "|    1441012| 0.07159346143007668|             I|\n",
      "|   17823952|  0.8855432293718151|             P|\n",
      "+-----------+--------------------+--------------+\n",
      "\n"
     ]
    }
   ],
   "source": [
    "#Distribution of Occupation Types\n",
    "spark.sql(\"\"\"Select \n",
    "count(*) as OccupyCount\n",
    ",count(*)/(Select cast(count(*) as float) from dfr) as RatioOfTotal\n",
    ", Occupancy_Type \n",
    "from dfr as D \n",
    "group by Occupancy_Type\"\"\").show()"
   ]
  },
  {
   "cell_type": "code",
   "execution_count": 21,
   "metadata": {},
   "outputs": [
    {
     "data": {
      "text/plain": [
       "[Row(OccupyCount=61, RatioOfTotal=3.0306487019085735e-06, Occupancy_Type=None),\n",
       " Row(OccupyCount=862678, RatioOfTotal=0.042860228866640725, Occupancy_Type='S'),\n",
       " Row(OccupyCount=1441012, RatioOfTotal=0.07159346143007668, Occupancy_Type='I'),\n",
       " Row(OccupyCount=17823952, RatioOfTotal=0.8855432293718151, Occupancy_Type='P')]"
      ]
     },
     "execution_count": 21,
     "metadata": {},
     "output_type": "execute_result"
    }
   ],
   "source": []
  },
  {
   "cell_type": "code",
   "execution_count": 42,
   "metadata": {},
   "outputs": [
    {
     "name": "stdout",
     "output_type": "stream",
     "text": [
      "+----------+--------------------+--------------+-------------+\n",
      "|OandPCount|        RatioOfTotal|Occupancy_Type|Property_Type|\n",
      "+----------+--------------------+--------------+-------------+\n",
      "|  13004369|    0.64609301686869|             P|           SF|\n",
      "|      1235|6.135821552224735E-5|             I|           MH|\n",
      "|   3269650|  0.1624452545605798|             P|           PU|\n",
      "|    213425|0.010603544249259628|             I|           PU|\n",
      "|        58|2.881600405093398E-6|          null|         null|\n",
      "|     11965|5.944542904645259E-4|             S|           MH|\n",
      "|      4038|2.006190075132265...|             S|           CP|\n",
      "|         2|9.936553121011716E-8|          null|           SF|\n",
      "|   1061059| 0.05271634559013785|             I|           SF|\n",
      "|        24|1.192386374521405...|             I|           CP|\n",
      "|    100005|0.004968524974333883|             P|           CP|\n",
      "|         1|4.968276560505858E-8|          null|            S|\n",
      "|    468013|0.023252180179120282|             S|           SF|\n",
      "|    125093|0.006214966197833593|             P|           MH|\n",
      "|    165269|0.008211020988782427|             I|           CO|\n",
      "|    177403|0.008813871666634207|             S|           CO|\n",
      "|   1324835| 0.06582146677037778|             P|           CO|\n",
      "|    201259|0.009999103722908485|             S|           PU|\n",
      "+----------+--------------------+--------------+-------------+\n",
      "\n"
     ]
    }
   ],
   "source": [
    "#Distribution of Occupancy and property types, to narrow this project we may want to focus on just P/SF\n",
    "spark.sql(\"\"\"Select count(*) as OandPCount\n",
    ",count(*)/(Select cast(count(*) as float) from dfr) as RatioOfTotal\n",
    ",Occupancy_Type\n",
    ",Property_Type \n",
    "from dfr as d\n",
    "\n",
    "group by Occupancy_Type, Property_Type\"\"\").show()"
   ]
  },
  {
   "cell_type": "code",
   "execution_count": 43,
   "metadata": {},
   "outputs": [
    {
     "name": "stdout",
     "output_type": "stream",
     "text": [
      "+------------+--------------------+------------+\n",
      "|PurposeCount|        RatioOfTotal|Loan_Purpose|\n",
      "+------------+--------------------+------------+\n",
      "|          58|2.881600405093398E-6|        null|\n",
      "|        4123|2.048420425896565...|           U|\n",
      "|     5929886|  0.2946131362027184|           C|\n",
      "|     5890108|  0.2926368551524804|           R|\n",
      "|     8303528|  0.4125422353190409|           P|\n",
      "+------------+--------------------+------------+\n",
      "\n"
     ]
    }
   ],
   "source": [
    "#Distribution of Occupation Types\n",
    "spark.sql(\"\"\"Select \n",
    "count(*) as PurposeCount\n",
    ",count(*)/(Select cast(count(*) as float) from dfr) as RatioOfTotal\n",
    ", Loan_Purpose \n",
    "from dfr as D \n",
    "group by Loan_Purpose\"\"\").show()"
   ]
  },
  {
   "cell_type": "code",
   "execution_count": 51,
   "metadata": {},
   "outputs": [
    {
     "name": "stdout",
     "output_type": "stream",
     "text": [
      "+------------+--------------------+--------------------------+\n",
      "|PurposeCount|        RatioOfTotal|First_Time_Home_Buyer_Flag|\n",
      "+------------+--------------------+--------------------------+\n",
      "|          56|2.782234873883280...|                      null|\n",
      "|     2636036|  0.1309655587144962|                         Y|\n",
      "|       10234|5.084534232021695E-4|                         U|\n",
      "|    17481377|  0.8685231559446621|                         N|\n",
      "+------------+--------------------+--------------------------+\n",
      "\n"
     ]
    }
   ],
   "source": [
    "#Distribution of first time homebuyers \n",
    "spark.sql(\"\"\"Select \n",
    "count(*) as PurposeCount\n",
    ",count(*)/(Select cast(count(*) as float) from dfr) as RatioOfTotal\n",
    ", First_Time_Home_Buyer_Flag \n",
    "from dfr as D \n",
    "group by First_Time_Home_Buyer_Flag\"\"\").show()"
   ]
  },
  {
   "cell_type": "code",
   "execution_count": 6,
   "metadata": {},
   "outputs": [
    {
     "data": {
      "text/plain": [
       "[Row(OccupyCount=61, RatioOfTotal=3.0306487019085735e-06, Occupancy_Type=None),\n",
       " Row(OccupyCount=862678, RatioOfTotal=0.042860228866640725, Occupancy_Type='S'),\n",
       " Row(OccupyCount=1441012, RatioOfTotal=0.07159346143007668, Occupancy_Type='I'),\n",
       " Row(OccupyCount=17823952, RatioOfTotal=0.8855432293718151, Occupancy_Type='P')]"
      ]
     },
     "execution_count": 6,
     "metadata": {},
     "output_type": "execute_result"
    }
   ],
   "source": [
    "#Distribution of Occupation Types, collected to allow for plotting\n",
    "toPlot = spark.sql(\"\"\"Select \n",
    "count(*) as OccupyCount\n",
    ",count(*)/(Select cast(count(*) as float) from dfr) as RatioOfTotal\n",
    ", Occupancy_Type \n",
    "from dfr as D \n",
    "group by Occupancy_Type\"\"\").collect()\n",
    "\n",
    "\n",
    "toPlot"
   ]
  },
  {
   "cell_type": "code",
   "execution_count": 18,
   "metadata": {},
   "outputs": [
    {
     "data": {
      "image/png": "[encoded data removed]",
      "text/plain": [
       "<Figure size 432x288 with 1 Axes>"
      ]
     },
     "metadata": {},
     "output_type": "display_data"
    }
   ],
   "source": [
    "#https://benalexkeen.com/bar-charts-in-matplotlib/\n",
    "\n",
    "import matplotlib.pyplot as plt\n",
    "%matplotlib inline\n",
    "plt.style.use('ggplot')\n",
    "\n",
    "x_ticks = [x for x in range(len(toPlot))]\n",
    "plotcols = [\"None\" if x[2] is None else x[2] for x in toPlot]\n",
    "\n",
    "plt.bar(x_ticks, height = [x[0] for x in toPlot], color='green')\n",
    "plt.xlabel(\"Occupancy Type\")\n",
    "plt.ylabel(\"Record Count\")\n",
    "plt.title(\"Count of Occupancy Type\")\n",
    "plt.xticks(x_ticks,plotcols)\n",
    "plt.show()"
   ]
  },
  {
   "cell_type": "code",
   "execution_count": 17,
   "metadata": {},
   "outputs": [
    {
     "data": {
      "image/png": "[encoded data removed]",
      "text/plain": [
       "<Figure size 432x288 with 1 Axes>"
      ]
     },
     "metadata": {},
     "output_type": "display_data"
    }
   ],
   "source": [
    "%matplotlib inline\n",
    "plt.style.use('ggplot')\n",
    "\n",
    "x_ticks = [x for x in range(len(toPlot))]\n",
    "plotcols = [\"None\" if x[2] is None else x[2] for x in toPlot]\n",
    "\n",
    "plt.bar(x_ticks, height = [x[1] for x in toPlot], color='teal')\n",
    "plt.xlabel(\"Occupancy Type\")\n",
    "plt.ylabel(\"% of Total\")\n",
    "plt.title(\"Ratio of Occupancy Type\")\n",
    "plt.xticks(x_ticks,plotcols)\n",
    "plt.show()"
   ]
  },
  {
   "cell_type": "code",
   "execution_count": 34,
   "metadata": {},
   "outputs": [
    {
     "name": "stdout",
     "output_type": "stream",
     "text": [
      "+-------+-----------------------------+\n",
      "|summary|Primary_Borrower_Credit_Score|\n",
      "+-------+-----------------------------+\n",
      "|  count|                     20046269|\n",
      "|   mean|            742.3032591251769|\n",
      "| stddev|            53.66955770937492|\n",
      "|    min|                          300|\n",
      "|    max|                          850|\n",
      "+-------+-----------------------------+\n",
      "\n"
     ]
    }
   ],
   "source": [
    "#Primary credit score summary\n",
    "dfr.describe(\"Primary_Borrower_Credit_Score\").show()"
   ]
  },
  {
   "cell_type": "code",
   "execution_count": 52,
   "metadata": {},
   "outputs": [
    {
     "name": "stdout",
     "output_type": "stream",
     "text": [
      "+-------+---------------------------+\n",
      "|summary|Joint_Borrower_Credit_Score|\n",
      "+-------+---------------------------+\n",
      "|  count|                    9983923|\n",
      "|   mean|          750.9828305967504|\n",
      "| stddev|         50.872040009574974|\n",
      "|    min|                        300|\n",
      "|    max|                        850|\n",
      "+-------+---------------------------+\n",
      "\n"
     ]
    }
   ],
   "source": [
    "#Primary credit score summary\n",
    "#It may be worth combining this with the primary credit score and taking the highest or lowest score on the application\n",
    "dfr.describe(\"Joint_Borrower_Credit_Score\").show()"
   ]
  },
  {
   "cell_type": "code",
   "execution_count": 35,
   "metadata": {},
   "outputs": [
    {
     "name": "stdout",
     "output_type": "stream",
     "text": [
      "+-------+-----------------+\n",
      "|summary|              LTV|\n",
      "+-------+-----------------+\n",
      "|  count|         20127648|\n",
      "|   mean|70.96592726581864|\n",
      "| stddev|17.47826941276611|\n",
      "|    min|                1|\n",
      "|    max|               97|\n",
      "+-------+-----------------+\n",
      "\n"
     ]
    }
   ],
   "source": [
    "#LTV Summary\n",
    "dfr.describe(\"LTV\").show()"
   ]
  },
  {
   "cell_type": "code",
   "execution_count": 50,
   "metadata": {},
   "outputs": [
    {
     "name": "stdout",
     "output_type": "stream",
     "text": [
      "+-------+------------------+\n",
      "|summary|              CLTV|\n",
      "+-------+------------------+\n",
      "|  count|          19821975|\n",
      "|   mean| 71.79199993946114|\n",
      "| stddev|17.583726924349808|\n",
      "|    min|                 1|\n",
      "|    max|               197|\n",
      "+-------+------------------+\n",
      "\n"
     ]
    }
   ],
   "source": [
    "#Combined LTV Summary, could be used to create a feature.\n",
    "#If the CLTV > LTV it would indicate that there is a second mortgage associated with the property\n",
    "dfr.describe(\"CLTV\").show()"
   ]
  },
  {
   "cell_type": "code",
   "execution_count": 36,
   "metadata": {},
   "outputs": [
    {
     "name": "stdout",
     "output_type": "stream",
     "text": [
      "+-------+------------------+\n",
      "|summary|               DTI|\n",
      "+-------+------------------+\n",
      "|  count|          19759429|\n",
      "|   mean| 34.11001881683929|\n",
      "| stddev|11.363787243310226|\n",
      "|    min|                 1|\n",
      "|    max|                64|\n",
      "+-------+------------------+\n",
      "\n"
     ]
    }
   ],
   "source": [
    "#DTI Summary\n",
    "dfr.describe(\"DTI\").show()"
   ]
  },
  {
   "cell_type": "code",
   "execution_count": 53,
   "metadata": {},
   "outputs": [
    {
     "name": "stdout",
     "output_type": "stream",
     "text": [
      "+-------+------------------+\n",
      "|summary|       PMI_Percent|\n",
      "+-------+------------------+\n",
      "|  count|           3960585|\n",
      "|   mean|24.015910780856867|\n",
      "| stddev|  7.01740787963051|\n",
      "|    min|                 1|\n",
      "|    max|                50|\n",
      "+-------+------------------+\n",
      "\n"
     ]
    }
   ],
   "source": [
    "#PMI Summary\n",
    "#This field is largely null.  If a loan has PMI it is likely due to it having other significant risk factors.\n",
    "#It could be worthwhile to convert this into a bit flag instead of using it as a continuous variable\n",
    "dfr.describe(\"PMI_Percent\").show()"
   ]
  },
  {
   "cell_type": "code",
   "execution_count": null,
   "metadata": {},
   "outputs": [],
   "source": []
  }
 ],
 "metadata": {
  "kernelspec": {
   "display_name": "DS 5559",
   "language": "python",
   "name": "ds5559"
  },
  "language_info": {
   "codemirror_mode": {
    "name": "ipython",
    "version": 3
   },
   "file_extension": ".py",
   "mimetype": "text/x-python",
   "name": "python",
   "nbconvert_exporter": "python",
   "pygments_lexer": "ipython3",
   "version": "3.7.6"
  }
 },
 "nbformat": 4,
 "nbformat_minor": 4
}
